{
 "cells": [
  {
   "cell_type": "markdown",
   "id": "b82ee97d-a2d4-4a48-94ed-e7c39a4e84e4",
   "metadata": {},
   "source": [
    "P3: Data Exploration"
   ]
  },
  {
   "cell_type": "code",
   "execution_count": 5,
   "id": "0459563a-4385-4b58-a9a5-c6f2f8e35d21",
   "metadata": {},
   "outputs": [],
   "source": [
    "# Render our plots inline\n",
    "%matplotlib inline\n",
    "\n",
    "import pandas as pd\n",
    "import matplotlib.pyplot as plt\n",
    "\n",
    "# Make the graphs a bit prettier, and bigger\n",
    "plt.style.use('ggplot')\n",
    "plt.rcParams['figure.figsize'] = (15, 7)"
   ]
  },
  {
   "cell_type": "code",
   "execution_count": 7,
   "id": "f14716a8-04d4-4de8-a962-14ebd70b6941",
   "metadata": {},
   "outputs": [
    {
     "name": "stderr",
     "output_type": "stream",
     "text": [
      "/Users/johntate/opt/anaconda3/lib/python3.8/site-packages/IPython/core/interactiveshell.py:3165: DtypeWarning: Columns (4,31,33,54,61,62,63,76,79,90,92,94,96,114,115,121) have mixed types.Specify dtype option on import or set low_memory=False.\n",
      "  has_raised = await self.run_ast_nodes(code_ast.body, cell_name,\n"
     ]
    }
   ],
   "source": [
    "#Read data\n",
    "terror_df = pd.read_csv('gtdDataSet.csv')\n"
   ]
  },
  {
   "cell_type": "code",
   "execution_count": null,
   "id": "596c244f-874f-497f-a165-8008813bccac",
   "metadata": {},
   "outputs": [],
   "source": [
    "#Inspect data frame to make sure it's uncorrupted\n",
    "terror_df"
   ]
  },
  {
   "cell_type": "code",
   "execution_count": null,
   "id": "40ab6700-32fd-4a16-af5c-69af5db7f0ab",
   "metadata": {},
   "outputs": [],
   "source": [
    "#Get a sense for the number of rows and columns\n",
    "terror_df.shape()"
   ]
  }
 ],
 "metadata": {
  "kernelspec": {
   "display_name": "Python 3",
   "language": "python",
   "name": "python3"
  },
  "language_info": {
   "codemirror_mode": {
    "name": "ipython",
    "version": 3
   },
   "file_extension": ".py",
   "mimetype": "text/x-python",
   "name": "python",
   "nbconvert_exporter": "python",
   "pygments_lexer": "ipython3",
   "version": "3.8.8"
  }
 },
 "nbformat": 4,
 "nbformat_minor": 5
}
