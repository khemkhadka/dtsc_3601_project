{
 "cells": [
  {
   "cell_type": "code",
   "execution_count": 1,
   "id": "869ff975-b5e6-4df8-a290-50e9e0233781",
   "metadata": {},
   "outputs": [],
   "source": [
    "# Render our plots inline\n",
    "%matplotlib inline\n",
    "\n",
    "import pandas as pd\n",
    "import numpy as np\n",
    "import matplotlib.pyplot as plt\n",
    "from sklearn.model_selection import train_test_split\n",
    "import random\n",
    "from scipy import stats\n",
    "from sklearn.tree import DecisionTreeClassifier\n",
    "from sklearn.ensemble import RandomForestClassifier\n",
    "\n",
    "# Make the graphs a bit prettier, and bigger\n",
    "plt.style.use('ggplot')\n",
    "plt.rcParams['figure.figsize'] = (30, 14)"
   ]
  },
  {
   "cell_type": "code",
   "execution_count": 2,
   "id": "c5a649cf-9dfb-4315-a757-90e86082389a",
   "metadata": {},
   "outputs": [
    {
     "name": "stderr",
     "output_type": "stream",
     "text": [
      "/Users/johntate/opt/anaconda3/lib/python3.8/site-packages/IPython/core/interactiveshell.py:3165: DtypeWarning: Columns (4,31,33,54,61,62,63,76,79,90,92,94,96,114,115,121) have mixed types.Specify dtype option on import or set low_memory=False.\n",
      "  has_raised = await self.run_ast_nodes(code_ast.body, cell_name,\n"
     ]
    }
   ],
   "source": [
    "#Read in the data set\n",
    "gtd = pd.read_csv('gtdDataSet.csv')"
   ]
  },
  {
   "cell_type": "code",
   "execution_count": 5,
   "id": "dfbfc870-db6a-4fdf-9249-45614acc218d",
   "metadata": {},
   "outputs": [],
   "source": [
    "gtd_vra = gtd[['eventid', 'iyear', 'imonth', 'summary', 'doubtterr', 'weaptype1', 'weaptype1_txt', 'weapsubtype1', 'weapsubtype1_txt', 'nperps', 'targtype1', 'targtype1_txt', 'targsubtype1', 'targsubtype1_txt', 'nkill']]"
   ]
  },
  {
   "cell_type": "code",
   "execution_count": 6,
   "id": "aadcc229-8ec2-4105-b769-523c7da411b4",
   "metadata": {},
   "outputs": [
    {
     "data": {
      "text/plain": [
       "(201183, 15)"
      ]
     },
     "execution_count": 6,
     "metadata": {},
     "output_type": "execute_result"
    }
   ],
   "source": [
    "gtd_vra.shape"
   ]
  },
  {
   "cell_type": "code",
   "execution_count": 8,
   "id": "e9b1b657-a61c-4248-b8ba-8f784bc9df41",
   "metadata": {},
   "outputs": [],
   "source": [
    "#Select for rows where the attack used either a knife or a vehicle\n",
    "gtd_vra = gtd_vra[(gtd_vra['weapsubtype1_txt'] == 'Knife or Other Sharp Object') | (gtd_vra['weaptype1'] == 10)]"
   ]
  },
  {
   "cell_type": "code",
   "execution_count": 9,
   "id": "c22655e0-9c08-46d7-a401-d9a57a3e7f66",
   "metadata": {},
   "outputs": [
    {
     "data": {
      "text/plain": [
       "(3071, 15)"
      ]
     },
     "execution_count": 9,
     "metadata": {},
     "output_type": "execute_result"
    }
   ],
   "source": [
    "gtd_vra.shape"
   ]
  },
  {
   "cell_type": "code",
   "execution_count": 29,
   "id": "1bc22bfe-fd2b-4947-a75d-e92263b6d272",
   "metadata": {},
   "outputs": [],
   "source": [
    "#Select for rows where the target type is one of the top 7 most frequently occurring \n",
    "gtd_vra = gtd_vra[(gtd_vra['targtype1_txt'] == 'Private Citizens & Property') | (gtd_vra['targtype1_txt'] == 'Military') | \n",
    "                  (gtd_vra['targtype1_txt'] == 'Police') | (gtd_vra['targtype1_txt'] == 'Government (General)') \n",
    "                 | (gtd_vra['targtype1_txt'] == 'Journalists & Media') | (gtd_vra['targtype1_txt'] == 'Religious Figures/Institutions') |\n",
    "                   (gtd_vra['targtype1_txt'] == 'Business')] "
   ]
  },
  {
   "cell_type": "code",
   "execution_count": 30,
   "id": "e673356e-480d-427e-8456-ba74d55a94ef",
   "metadata": {},
   "outputs": [
    {
     "data": {
      "text/plain": [
       "(1585, 15)"
      ]
     },
     "execution_count": 30,
     "metadata": {},
     "output_type": "execute_result"
    }
   ],
   "source": [
    "gtd_vra.shape"
   ]
  },
  {
   "cell_type": "code",
   "execution_count": 31,
   "id": "8efee7f6-bfa6-4755-9910-c7c7dbbd1582",
   "metadata": {},
   "outputs": [
    {
     "data": {
      "text/plain": [
       "Private Citizens & Property       0.559621\n",
       "Military                          0.142587\n",
       "Police                            0.141325\n",
       "Government (General)              0.077603\n",
       "Religious Figures/Institutions    0.051104\n",
       "Business                          0.027760\n",
       "Name: targtype1_txt, dtype: float64"
      ]
     },
     "execution_count": 31,
     "metadata": {},
     "output_type": "execute_result"
    }
   ],
   "source": [
    "#ID baseline by checking which feature has the highest percentage when normalized.\n",
    "#Note that we have calculated the baseline earlier than normal, but we're doing it here so that it's before the feature is split into dummy variables.\n",
    "gtd_vra[\"targtype1_txt\"].value_counts(normalize = True)"
   ]
  },
  {
   "cell_type": "code",
   "execution_count": 32,
   "id": "f6d959e8-414c-4225-924c-4b78ab08414a",
   "metadata": {},
   "outputs": [],
   "source": [
    "#Drop any duplicate rows, since we subsetted columns there should be no duplicates\n",
    "gtd_vra.drop_duplicates(inplace=True)\n",
    "gtd_vra.dropna(inplace=True)"
   ]
  },
  {
   "cell_type": "markdown",
   "id": "f887d1b5-ce09-4cc4-9904-438bf0cb8b80",
   "metadata": {},
   "source": [
    "TO DO: Write code to normalize all variables and look for outliers"
   ]
  },
  {
   "cell_type": "code",
   "execution_count": 33,
   "id": "8d3aa198-05c5-468a-887b-f6cac036b009",
   "metadata": {},
   "outputs": [
    {
     "data": {
      "text/plain": [
       "(1585, 15)"
      ]
     },
     "execution_count": 33,
     "metadata": {},
     "output_type": "execute_result"
    }
   ],
   "source": [
    "#Inpsect the number of records after the selection\n",
    "gtd_vra.shape"
   ]
  },
  {
   "cell_type": "code",
   "execution_count": 34,
   "id": "a349de23-1c37-4374-bafc-192eb8a08c3f",
   "metadata": {},
   "outputs": [],
   "source": [
    "#Partition the data set without balancing. We initially started at an 80/20 split but found that 70/30 assisted\n",
    "#in model performance\n",
    "gtd_train1, gtd_test1 = train_test_split(gtd_vra, test_size =0.3, random_state = 1888)"
   ]
  },
  {
   "cell_type": "code",
   "execution_count": 35,
   "id": "21aae00c-9303-4d15-82e1-feb969b2b242",
   "metadata": {},
   "outputs": [
    {
     "name": "stdout",
     "output_type": "stream",
     "text": [
      "GTD shape: (1585, 15)\n",
      "Train shape:  (1109, 15)\n",
      "Test shape:  (476, 15)\n"
     ]
    }
   ],
   "source": [
    "#Check the data set to verify that no records are missing\n",
    "print('GTD shape:', gtd_vra.shape)\n",
    "print('Train shape: ',gtd_train1.shape)\n",
    "print('Test shape: ', gtd_test1.shape)"
   ]
  },
  {
   "cell_type": "markdown",
   "id": "df67bee3-c0d0-41b3-afc3-e8fba2c61ddf",
   "metadata": {},
   "source": [
    "1238 + 531 = 1769. It appears that all records were succesfully carried over during partitioning"
   ]
  },
  {
   "cell_type": "markdown",
   "id": "d03bc266-d74f-408d-b7f7-2a959d0eaf95",
   "metadata": {},
   "source": [
    "The baseline for our model is 50% since we see the most frequently occurring feature, Private citizens & property accounting for roughly 50.1% of occurrences."
   ]
  },
  {
   "cell_type": "code",
   "execution_count": 36,
   "id": "69619fee-01b0-413f-a779-b356db7ce431",
   "metadata": {},
   "outputs": [],
   "source": [
    "#Set up our x training set\n",
    "x = gtd_train1[['iyear', 'imonth', 'doubtterr', 'weaptype1_txt', 'weapsubtype1_txt', 'nperps', 'nkill']]"
   ]
  },
  {
   "cell_type": "code",
   "execution_count": 37,
   "id": "39c8ab24-b4df-4e73-9c52-aaba0209dc8f",
   "metadata": {},
   "outputs": [],
   "source": [
    "#Set up our y training set\n",
    "y = gtd_train1[['targtype1_txt']]"
   ]
  },
  {
   "cell_type": "code",
   "execution_count": 38,
   "id": "6f2d7ecd-933b-434a-a962-634098c41bd0",
   "metadata": {},
   "outputs": [],
   "source": [
    "#Set up our x test set\n",
    "x_test = gtd_test1[['iyear', 'imonth', 'doubtterr', 'weaptype1_txt', 'weapsubtype1_txt', 'nperps', 'nkill']]"
   ]
  },
  {
   "cell_type": "code",
   "execution_count": 39,
   "id": "54e1cfd2-230a-4b67-abe5-2efc7bedb50a",
   "metadata": {},
   "outputs": [],
   "source": [
    "#Set up our y test set\n",
    "y_test = gtd_test1[['targtype1_txt']]"
   ]
  },
  {
   "cell_type": "code",
   "execution_count": 40,
   "id": "d0c10439-3d4e-45b9-9e38-57ea030555e3",
   "metadata": {},
   "outputs": [],
   "source": [
    "#Code x training set with dummys for appropriate categorical variables\n",
    "x = pd.get_dummies(x, columns=['weaptype1_txt','weapsubtype1_txt'], prefix = ['dummy','dummy'])"
   ]
  },
  {
   "cell_type": "code",
   "execution_count": 41,
   "id": "331bafe9-9d99-4d1e-9903-775834e9019a",
   "metadata": {},
   "outputs": [],
   "source": [
    "#Code x_test training set with dummys for appropriate categorical variables\n",
    "x_test = pd.get_dummies(x_test, columns=['weaptype1_txt','weapsubtype1_txt'], prefix = ['dummy','dummy'])"
   ]
  },
  {
   "cell_type": "code",
   "execution_count": 42,
   "id": "03aa7000-8d23-412d-b49e-75b0511e46fe",
   "metadata": {},
   "outputs": [
    {
     "name": "stdout",
     "output_type": "stream",
     "text": [
      "False\n",
      "Index(['iyear', 'imonth', 'doubtterr', 'nperps', 'nkill', 'dummy_Melee',\n",
      "       'dummy_Knife or Other Sharp Object'],\n",
      "      dtype='object')\n",
      "Index(['iyear', 'imonth', 'doubtterr', 'nperps', 'nkill', 'dummy_Melee',\n",
      "       'dummy_Knife or Other Sharp Object'],\n",
      "      dtype='object')\n",
      "Not in testing ---> \n",
      "Not in training ---> \n"
     ]
    }
   ],
   "source": [
    "# verify that the two sets do not contain the same columns\n",
    "print (x_test.isin(x).all().all())\n",
    "# list the columns\n",
    "print(x_test.columns)\n",
    "print(x.columns)\n",
    "\n",
    "# get a list of which columns are in the training set but not testing\n",
    "col_compare  = x.columns.isin(x_test)\n",
    "# iterate to list missing columns \n",
    "print('Not in testing ---> ')\n",
    "for index in range (0, len(col_compare)):\n",
    "       if not col_compare[index]:\n",
    "            print(x.columns[index])\n",
    "            \n",
    "# get a list of which columns are in the testing set but not training\n",
    "col_compare  = x_test.columns.isin(x)\n",
    "# iterate to list missing columns\n",
    "print('Not in training ---> ')\n",
    "for index in range (0, len(col_compare)):\n",
    "       if not col_compare[index]:\n",
    "            print(x_test.columns[index])"
   ]
  },
  {
   "cell_type": "code",
   "execution_count": 43,
   "id": "6aabd1ee-fecc-4e7e-a81c-06954dfc886b",
   "metadata": {},
   "outputs": [
    {
     "name": "stdout",
     "output_type": "stream",
     "text": [
      "(1109, 7)\n",
      "(476, 7)\n"
     ]
    }
   ],
   "source": [
    "#Verify that the columns now have the same shape\n",
    "print(x.shape)\n",
    "print(x_test.shape)"
   ]
  },
  {
   "cell_type": "code",
   "execution_count": 44,
   "id": "850183d1-134d-4b42-91a8-c411e127549f",
   "metadata": {},
   "outputs": [
    {
     "name": "stderr",
     "output_type": "stream",
     "text": [
      "<ipython-input-44-f1bcaf61a0d4>:8: DataConversionWarning: A column-vector y was passed when a 1d array was expected. Please change the shape of y to (n_samples,), for example using ravel().\n",
      "  rf01 = RandomForestClassifier(n_estimators = 100,criterion=\"gini\").fit(x,y)\n"
     ]
    }
   ],
   "source": [
    "#Create cart model using max 15 nodes\n",
    "cart01 = DecisionTreeClassifier(criterion = \"gini\", max_leaf_nodes=15).fit(x,y)\n",
    "\n",
    "#Create our c50 model using max 15 nodes\n",
    "c50_01 = DecisionTreeClassifier(criterion=\"entropy\",max_leaf_nodes=15).fit(x,y)\n",
    "\n",
    "#Create our random forest model using max estimators 100\n",
    "rf01 = RandomForestClassifier(n_estimators = 100,criterion=\"gini\").fit(x,y)"
   ]
  },
  {
   "cell_type": "code",
   "execution_count": 45,
   "id": "5038aae6-54d3-4954-8a69-7e417c92d94b",
   "metadata": {},
   "outputs": [
    {
     "name": "stdout",
     "output_type": "stream",
     "text": [
      "Training scores:\n",
      "0.6681695220919748\n",
      "0.6663660955816051\n",
      "0.8827772768259693\n",
      "----------------\n",
      "Test scores:\n",
      "0.6470588235294118\n",
      "0.6533613445378151\n",
      "0.569327731092437\n"
     ]
    }
   ],
   "source": [
    "print(\"Training scores:\")\n",
    "print(cart01.score(x,y))\n",
    "print(c50_01.score(x,y))\n",
    "print(rf01.score(x,y))\n",
    "print(\"----------------\")\n",
    "print(\"Test scores:\")\n",
    "print(cart01.score(x_test,y_test))\n",
    "print(c50_01.score(x_test,y_test))\n",
    "print(rf01.score(x_test,y_test))"
   ]
  },
  {
   "cell_type": "code",
   "execution_count": null,
   "id": "05acddf7-9ac8-47dc-9059-b1edca1ed387",
   "metadata": {},
   "outputs": [],
   "source": [
    "Begin creating visualizations for report and presentation"
   ]
  },
  {
   "cell_type": "code",
   "execution_count": null,
   "id": "8085f894-c6a7-45e6-8b5c-ddedbaa63d32",
   "metadata": {},
   "outputs": [],
   "source": [
    "#Distribution of Target for Low barrier to entry attack\n",
    "gtd_vra[\"targtype1_txt\"].value_counts().plot(kind='bar')\n",
    "plt.title(\"Distribution of vehicle and knife attack targets\")\n",
    "plt.xlabel('Attack Targets')\n",
    "plt.ylabel('Counts')\n",
    "plt.show()"
   ]
  }
 ],
 "metadata": {
  "kernelspec": {
   "display_name": "Python 3",
   "language": "python",
   "name": "python3"
  },
  "language_info": {
   "codemirror_mode": {
    "name": "ipython",
    "version": 3
   },
   "file_extension": ".py",
   "mimetype": "text/x-python",
   "name": "python",
   "nbconvert_exporter": "python",
   "pygments_lexer": "ipython3",
   "version": "3.8.8"
  }
 },
 "nbformat": 4,
 "nbformat_minor": 5
}
